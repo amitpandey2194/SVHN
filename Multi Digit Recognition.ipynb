{
 "cells": [
  {
   "cell_type": "code",
   "execution_count": 1,
   "metadata": {},
   "outputs": [
    {
     "name": "stderr",
     "output_type": "stream",
     "text": [
      "Using TensorFlow backend.\n"
     ]
    },
    {
     "name": "stdout",
     "output_type": "stream",
     "text": [
      "__________________________________________________________________________________________________\n",
      "Layer (type)                    Output Shape         Param #     Connected to                     \n",
      "==================================================================================================\n",
      "input_1 (InputLayer)            (None, 64, 64, 3)    0                                            \n",
      "__________________________________________________________________________________________________\n",
      "conv2d_1 (Conv2D)               (None, 60, 60, 32)   2432        input_1[0][0]                    \n",
      "__________________________________________________________________________________________________\n",
      "activation_1 (Activation)       (None, 60, 60, 32)   0           conv2d_1[0][0]                   \n",
      "__________________________________________________________________________________________________\n",
      "conv2d_2 (Conv2D)               (None, 56, 56, 32)   25632       activation_1[0][0]               \n",
      "__________________________________________________________________________________________________\n",
      "activation_2 (Activation)       (None, 56, 56, 32)   0           conv2d_2[0][0]                   \n",
      "__________________________________________________________________________________________________\n",
      "max_pooling2d_1 (MaxPooling2D)  (None, 55, 55, 32)   0           activation_2[0][0]               \n",
      "__________________________________________________________________________________________________\n",
      "conv2d_3 (Conv2D)               (None, 51, 51, 64)   51264       max_pooling2d_1[0][0]            \n",
      "__________________________________________________________________________________________________\n",
      "activation_3 (Activation)       (None, 51, 51, 64)   0           conv2d_3[0][0]                   \n",
      "__________________________________________________________________________________________________\n",
      "conv2d_4 (Conv2D)               (None, 47, 47, 64)   102464      activation_3[0][0]               \n",
      "__________________________________________________________________________________________________\n",
      "activation_4 (Activation)       (None, 47, 47, 64)   0           conv2d_4[0][0]                   \n",
      "__________________________________________________________________________________________________\n",
      "max_pooling2d_2 (MaxPooling2D)  (None, 46, 46, 64)   0           activation_4[0][0]               \n",
      "__________________________________________________________________________________________________\n",
      "conv2d_5 (Conv2D)               (None, 42, 42, 128)  204928      max_pooling2d_2[0][0]            \n",
      "__________________________________________________________________________________________________\n",
      "activation_5 (Activation)       (None, 42, 42, 128)  0           conv2d_5[0][0]                   \n",
      "__________________________________________________________________________________________________\n",
      "conv2d_6 (Conv2D)               (None, 38, 38, 128)  409728      activation_5[0][0]               \n",
      "__________________________________________________________________________________________________\n",
      "activation_6 (Activation)       (None, 38, 38, 128)  0           conv2d_6[0][0]                   \n",
      "__________________________________________________________________________________________________\n",
      "conv2d_7 (Conv2D)               (None, 34, 34, 128)  409728      activation_6[0][0]               \n",
      "__________________________________________________________________________________________________\n",
      "activation_7 (Activation)       (None, 34, 34, 128)  0           conv2d_7[0][0]                   \n",
      "__________________________________________________________________________________________________\n",
      "max_pooling2d_3 (MaxPooling2D)  (None, 33, 33, 128)  0           activation_7[0][0]               \n",
      "__________________________________________________________________________________________________\n",
      "flatten_1 (Flatten)             (None, 139392)       0           max_pooling2d_3[0][0]            \n",
      "__________________________________________________________________________________________________\n",
      "dense_1 (Dense)                 (None, 256)          35684608    flatten_1[0][0]                  \n",
      "__________________________________________________________________________________________________\n",
      "activation_8 (Activation)       (None, 256)          0           dense_1[0][0]                    \n",
      "__________________________________________________________________________________________________\n",
      "dense_2 (Dense)                 (None, 256)          65792       activation_8[0][0]               \n",
      "__________________________________________________________________________________________________\n",
      "activation_9 (Activation)       (None, 256)          0           dense_2[0][0]                    \n",
      "__________________________________________________________________________________________________\n",
      "dense_3 (Dense)                 (None, 11)           2827        activation_9[0][0]               \n",
      "__________________________________________________________________________________________________\n",
      "dense_4 (Dense)                 (None, 11)           2827        activation_9[0][0]               \n",
      "__________________________________________________________________________________________________\n",
      "dense_5 (Dense)                 (None, 11)           2827        activation_9[0][0]               \n",
      "__________________________________________________________________________________________________\n",
      "dense_6 (Dense)                 (None, 11)           2827        activation_9[0][0]               \n",
      "__________________________________________________________________________________________________\n",
      "dense_7 (Dense)                 (None, 11)           2827        activation_9[0][0]               \n",
      "__________________________________________________________________________________________________\n",
      "activation_10 (Activation)      (None, 11)           0           dense_3[0][0]                    \n",
      "__________________________________________________________________________________________________\n",
      "activation_11 (Activation)      (None, 11)           0           dense_4[0][0]                    \n",
      "__________________________________________________________________________________________________\n",
      "activation_12 (Activation)      (None, 11)           0           dense_5[0][0]                    \n",
      "__________________________________________________________________________________________________\n",
      "activation_13 (Activation)      (None, 11)           0           dense_6[0][0]                    \n",
      "__________________________________________________________________________________________________\n",
      "activation_14 (Activation)      (None, 11)           0           dense_7[0][0]                    \n",
      "==================================================================================================\n",
      "Total params: 36,970,711\n",
      "Trainable params: 36,970,711\n",
      "Non-trainable params: 0\n",
      "__________________________________________________________________________________________________\n"
     ]
    }
   ],
   "source": [
    "from keras.layers import Conv2D,Dense, Dropout, Activation, Flatten, MaxPooling2D\n",
    "import numpy as np\n",
    "import tensorflow as tf\n",
    "from keras.models import Model\n",
    "from keras.layers import Input\n",
    "from keras import backend as K\n",
    "\n",
    "inp=Input(shape=(64,64,3)) #Input layer expecting 64X64X3 image\n",
    "\n",
    "#Block 1\n",
    "out=Conv2D(32,(5,5))(inp)\n",
    "out=Activation('relu')(out)\n",
    "out=Conv2D(32,(5,5))(out)\n",
    "out=Activation('relu')(out)\n",
    "out=MaxPooling2D(pool_size=(2, 2),strides=1)(out)\n",
    "## Dropout layer\n",
    "\n",
    "#Block 2\n",
    "out=Conv2D(64,(5,5))(out)\n",
    "out=Activation('relu')(out)\n",
    "out=Conv2D(64,(5,5))(out)\n",
    "out=Activation('relu')(out)\n",
    "out=MaxPooling2D(pool_size=(2, 2),strides=1)(out)\n",
    "## Dropout layer\n",
    "\n",
    "#Block 3\n",
    "out=Conv2D(128,(5,5))(out)\n",
    "out=Activation('relu')(out)\n",
    "out=Conv2D(128,(5,5))(out)\n",
    "out=Activation('relu')(out)\n",
    "out=Conv2D(128,(5,5))(out)\n",
    "out=Activation('relu')(out)\n",
    "out=MaxPooling2D(pool_size=(2, 2),strides=1)(out)\n",
    "## Dropout layer\n",
    "\n",
    "#Flatten\n",
    "out=Flatten()(out)\n",
    "\n",
    "#FC layers\n",
    "out=Dense(256)(out)\n",
    "out=Activation('relu')(out)\n",
    "out=Dense(256)(out)\n",
    "out=Activation('relu')(out)\n",
    "\n",
    "#Softmax layers\n",
    "no_of_labels=11\n",
    "out1=Dense(no_of_labels)(out)\n",
    "logit1=Activation('softmax')(out1)\n",
    "out2=Dense(no_of_labels)(out)\n",
    "logit2=Activation('softmax')(out2)\n",
    "out3=Dense(no_of_labels)(out)\n",
    "logit3=Activation('softmax')(out3)\n",
    "out4=Dense(no_of_labels)(out)\n",
    "logit4=Activation('softmax')(out4)\n",
    "out5=Dense(no_of_labels)(out)\n",
    "logit5=Activation('softmax')(out5)\n",
    "\n",
    "model=Model(inp,[logit1,logit2,logit3,logit4,logit5])\n",
    "model.summary()"
   ]
  },
  {
   "cell_type": "code",
   "execution_count": 2,
   "metadata": {
    "collapsed": true
   },
   "outputs": [],
   "source": [
    "import h5py\n",
    "from unpacker import DigitStructWrapper\n",
    "\n",
    "def unpack(path):\n",
    "    inf=h5py.File(path,'r')\n",
    "    data=inf['train_dataset']\n",
    "    labels=inf['train_labels']\n",
    "    return data,labels\n",
    "    \n",
    "[data,labels]=unpack('SVHN_train.h5')"
   ]
  },
  {
   "cell_type": "code",
   "execution_count": 3,
   "metadata": {
    "collapsed": true
   },
   "outputs": [],
   "source": [
    "from PIL import Image\n",
    "img=Image.fromarray(data[0],'RGB')\n"
   ]
  },
  {
   "cell_type": "code",
   "execution_count": 4,
   "metadata": {},
   "outputs": [
    {
     "data": {
      "text/plain": [
       "(80, 5, 11)"
      ]
     },
     "execution_count": 4,
     "metadata": {},
     "output_type": "execute_result"
    }
   ],
   "source": [
    "train_data=data[0:80]\n",
    "test_data=data[80:100]\n",
    "train_labels=labels[0:80]\n",
    "test_labels=labels[80:100]\n",
    "\n",
    "from keras import utils\n",
    "y=utils.to_categorical(train_labels,num_classes=11)\n",
    "y.shape"
   ]
  },
  {
   "cell_type": "code",
   "execution_count": 5,
   "metadata": {},
   "outputs": [
    {
     "name": "stdout",
     "output_type": "stream",
     "text": [
      "Epoch 1/1\n",
      "80/80 [==============================] - 30s 380ms/step - loss: 7.4093 - activation_10_loss: 2.4026 - activation_11_loss: 2.1918 - activation_12_loss: 2.5807 - activation_13_loss: 0.1806 - activation_14_loss: 0.0536 - activation_10_acc: 0.8398 - activation_11_acc: 0.8511 - activation_12_acc: 0.8273 - activation_13_acc: 0.9727 - activation_14_acc: 0.9852\n"
     ]
    },
    {
     "data": {
      "text/plain": [
       "<keras.callbacks.History at 0x7f9e3df06e50>"
      ]
     },
     "execution_count": 5,
     "metadata": {},
     "output_type": "execute_result"
    }
   ],
   "source": [
    "model.compile(optimizer='rmsprop',\n",
    "              loss='binary_crossentropy',\n",
    "              metrics=['accuracy'])\n",
    "model.fit(x=train_data, y=[y[:,0],y[:,1],y[:,2],y[:,3],y[:,4]], epochs=1, batch_size=10)"
   ]
  },
  {
   "cell_type": "code",
   "execution_count": 26,
   "metadata": {},
   "outputs": [
    {
     "data": {
      "text/plain": [
       "(20, 64, 64, 3)"
      ]
     },
     "execution_count": 26,
     "metadata": {},
     "output_type": "execute_result"
    }
   ],
   "source": [
    "a=np.array(model.predict(x=test_data))"
   ]
  },
  {
   "cell_type": "code",
   "execution_count": 29,
   "metadata": {},
   "outputs": [
    {
     "data": {
      "text/plain": [
       "(20, 5, 11)"
      ]
     },
     "execution_count": 29,
     "metadata": {},
     "output_type": "execute_result"
    }
   ],
   "source": [
    "a=a.reshape(20,5,11)\n",
    "a.shape"
   ]
  },
  {
   "cell_type": "code",
   "execution_count": 35,
   "metadata": {},
   "outputs": [
    {
     "data": {
      "text/plain": [
       "array([[ 0.,  0.,  0.,  0.,  0.,  0.,  0.,  0.,  0.,  0.,  1.],\n",
       "       [ 0.,  0.,  0.,  0.,  0.,  0.,  0.,  0.,  0.,  0.,  1.],\n",
       "       [ 0.,  0.,  0.,  0.,  0.,  0.,  0.,  0.,  0.,  0.,  1.],\n",
       "       [ 0.,  0.,  0.,  0.,  0.,  0.,  0.,  0.,  0.,  0.,  1.],\n",
       "       [ 0.,  0.,  0.,  0.,  0.,  0.,  0.,  0.,  0.,  0.,  1.]], dtype=float32)"
      ]
     },
     "execution_count": 35,
     "metadata": {},
     "output_type": "execute_result"
    }
   ],
   "source": [
    "a[15,:,:]"
   ]
  },
  {
   "cell_type": "code",
   "execution_count": 18,
   "metadata": {},
   "outputs": [],
   "source": [
    "from PIL import Image\n",
    "img=Image.fromarray(test_data[1],'RGB')\n",
    "img.show()"
   ]
  },
  {
   "cell_type": "code",
   "execution_count": null,
   "metadata": {
    "collapsed": true
   },
   "outputs": [],
   "source": []
  }
 ],
 "metadata": {
  "kernelspec": {
   "display_name": "Python 2",
   "language": "python",
   "name": "python2"
  },
  "language_info": {
   "codemirror_mode": {
    "name": "ipython",
    "version": 2
   },
   "file_extension": ".py",
   "mimetype": "text/x-python",
   "name": "python",
   "nbconvert_exporter": "python",
   "pygments_lexer": "ipython2",
   "version": "2.7.12"
  }
 },
 "nbformat": 4,
 "nbformat_minor": 2
}
